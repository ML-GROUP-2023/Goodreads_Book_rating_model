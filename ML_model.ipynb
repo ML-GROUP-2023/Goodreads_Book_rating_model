{
 "cells": [
  {
   "cell_type": "markdown",
   "metadata": {},
   "source": [
    "# Data Preprocessing and Model Building"
   ]
  },
  {
   "cell_type": "code",
   "execution_count": 1,
   "metadata": {},
   "outputs": [],
   "source": [
    "\n",
    "\n",
    "import numpy as np\n",
    "import pandas as pd\n",
    "\n",
    "from sklearn.feature_selection import SelectKBest, chi2, mutual_info_classif\n",
    "from sklearn.preprocessing import LabelEncoder\n",
    "from imblearn.over_sampling import SMOTE\n",
    "\n",
    "from sklearn.model_selection import train_test_split,GridSearchCV\n",
    "from sklearn.metrics import ConfusionMatrixDisplay,confusion_matrix,classification_report\n",
    "\n",
    "\n",
    "from sklearn.linear_model import Lasso\n",
    "from sklearn.svm import SVC\n",
    "from sklearn.linear_model import SGDClassifier,LogisticRegression\n",
    "from sklearn.model_selection import train_test_split\n",
    "from sklearn.preprocessing import StandardScaler\n",
    "from sklearn.neighbors import KNeighborsClassifier\n",
    "from sklearn.tree import DecisionTreeClassifier\n",
    "from sklearn.ensemble import RandomForestClassifier\n",
    "\n"
   ]
  },
  {
   "cell_type": "markdown",
   "metadata": {},
   "source": [
    "### **1-Data Preprocessing**"
   ]
  },
  {
   "cell_type": "markdown",
   "metadata": {},
   "source": [
    "#### Loading data"
   ]
  },
  {
   "cell_type": "code",
   "execution_count": 2,
   "metadata": {},
   "outputs": [],
   "source": [
    "\n",
    "df = pd.read_csv(\"books.csv\", sep=\",\",on_bad_lines=\"skip\")\n",
    "df_enrichement=pd.read_csv(\"data_enrichement2.csv\", sep=\",\",on_bad_lines=\"skip\")"
   ]
  },
  {
   "cell_type": "markdown",
   "metadata": {},
   "source": [
    "#### Preprocessing the orignal Dataset"
   ]
  },
  {
   "cell_type": "code",
   "execution_count": 3,
   "metadata": {},
   "outputs": [],
   "source": [
    "df.rename(columns={df.columns[7]:\"num_pages\"},inplace=True)\n",
    "\n",
    "df['average_rating'] = df['average_rating'].round().astype(\"int64\") \n",
    "\n",
    "\n",
    "def extract_month_year_from_date(date_str):\n",
    "    try:\n",
    "        # Try to convert to datetime\n",
    "        date_obj = pd.to_datetime(date_str)\n",
    "        return date_obj.month, date_obj.year\n",
    "    except ValueError:\n",
    "        # If error, use string extraction\n",
    "        parts = date_str.split('/')\n",
    "        if len(parts) != 3:\n",
    "            return None, None\n",
    "        month, _, year = parts\n",
    "        return int(month), int(year)\n",
    "\n",
    "df.loc[::,'publication_month'], df.loc[::,'publication_year'] = zip(*df.loc[::,'publication_date'].apply(extract_month_year_from_date))\n",
    "df=df.drop(columns=\"publication_date\")"
   ]
  },
  {
   "cell_type": "markdown",
   "metadata": {},
   "source": [
    "#### Merging and cleaning Dataframes "
   ]
  },
  {
   "cell_type": "code",
   "execution_count": 4,
   "metadata": {},
   "outputs": [],
   "source": [
    "df_merged=pd.concat([df,df_enrichement]).reset_index(drop=True)"
   ]
  },
  {
   "cell_type": "code",
   "execution_count": 5,
   "metadata": {},
   "outputs": [],
   "source": [
    "df_merged=df_merged.replace(\" \",pd.NA)\n",
    "df_merged=df_merged.dropna()"
   ]
  },
  {
   "cell_type": "code",
   "execution_count": 6,
   "metadata": {},
   "outputs": [],
   "source": [
    "df_merged= df_merged.drop_duplicates(subset=\"isbn\")\n"
   ]
  },
  {
   "cell_type": "code",
   "execution_count": 7,
   "metadata": {},
   "outputs": [],
   "source": [
    "authors_df=pd.read_json(\"goodreads_book_authors.json\", lines=True)"
   ]
  },
  {
   "cell_type": "code",
   "execution_count": 8,
   "metadata": {},
   "outputs": [],
   "source": [
    "authors_df.rename(columns={authors_df.columns[3]:\"name\"},inplace=True)\n",
    "df_merged['authors'] = df_merged['authors'].str.split('/').str[0]\n",
    "df_merged['authors'] = df_merged['authors'].str.split(',').str[0]"
   ]
  },
  {
   "cell_type": "code",
   "execution_count": 9,
   "metadata": {},
   "outputs": [],
   "source": [
    "# Merge the average_rating of authors into df_merged\n",
    "df_merged = pd.merge(df_merged, authors_df[['name', 'average_rating']], left_on='authors', right_on='name', how='left', suffixes=('', '_author'))\n"
   ]
  },
  {
   "cell_type": "code",
   "execution_count": 10,
   "metadata": {},
   "outputs": [],
   "source": [
    "df_merged[\"average_rating_author\"] = df_merged[\"average_rating_author\"].fillna(df_merged[\"average_rating_author\"].mean())\n",
    "df_merged['average_rating_author'] = df_merged['average_rating_author'].round().astype(\"int64\")\n"
   ]
  },
  {
   "cell_type": "code",
   "execution_count": 11,
   "metadata": {},
   "outputs": [
    {
     "name": "stdout",
     "output_type": "stream",
     "text": [
      "<class 'pandas.core.frame.DataFrame'>\n",
      "Int64Index: 20169 entries, 0 to 20168\n",
      "Data columns (total 15 columns):\n",
      " #   Column                 Non-Null Count  Dtype  \n",
      "---  ------                 --------------  -----  \n",
      " 0   bookID                 20169 non-null  int64  \n",
      " 1   title                  20169 non-null  object \n",
      " 2   authors                20169 non-null  object \n",
      " 3   average_rating         20169 non-null  int64  \n",
      " 4   isbn                   20169 non-null  object \n",
      " 5   isbn13                 20169 non-null  object \n",
      " 6   language_code          20169 non-null  object \n",
      " 7   num_pages              20169 non-null  int64  \n",
      " 8   ratings_count          20169 non-null  int64  \n",
      " 9   text_reviews_count     20169 non-null  int64  \n",
      " 10  publisher              20169 non-null  object \n",
      " 11  publication_month      20169 non-null  float64\n",
      " 12  publication_year       20169 non-null  int64  \n",
      " 13  name                   19593 non-null  object \n",
      " 14  average_rating_author  20169 non-null  int64  \n",
      "dtypes: float64(1), int64(7), object(7)\n",
      "memory usage: 2.5+ MB\n"
     ]
    }
   ],
   "source": [
    "df_merged.info()"
   ]
  },
  {
   "cell_type": "code",
   "execution_count": 12,
   "metadata": {},
   "outputs": [
    {
     "data": {
      "text/html": [
       "<div>\n",
       "<style scoped>\n",
       "    .dataframe tbody tr th:only-of-type {\n",
       "        vertical-align: middle;\n",
       "    }\n",
       "\n",
       "    .dataframe tbody tr th {\n",
       "        vertical-align: top;\n",
       "    }\n",
       "\n",
       "    .dataframe thead th {\n",
       "        text-align: right;\n",
       "    }\n",
       "</style>\n",
       "<table border=\"1\" class=\"dataframe\">\n",
       "  <thead>\n",
       "    <tr style=\"text-align: right;\">\n",
       "      <th></th>\n",
       "      <th>bookID</th>\n",
       "      <th>title</th>\n",
       "      <th>authors</th>\n",
       "      <th>average_rating</th>\n",
       "      <th>isbn</th>\n",
       "      <th>isbn13</th>\n",
       "      <th>language_code</th>\n",
       "      <th>num_pages</th>\n",
       "      <th>ratings_count</th>\n",
       "      <th>text_reviews_count</th>\n",
       "      <th>publisher</th>\n",
       "      <th>publication_month</th>\n",
       "      <th>publication_year</th>\n",
       "      <th>name</th>\n",
       "      <th>average_rating_author</th>\n",
       "    </tr>\n",
       "  </thead>\n",
       "  <tbody>\n",
       "  </tbody>\n",
       "</table>\n",
       "</div>"
      ],
      "text/plain": [
       "Empty DataFrame\n",
       "Columns: [bookID, title, authors, average_rating, isbn, isbn13, language_code, num_pages, ratings_count, text_reviews_count, publisher, publication_month, publication_year, name, average_rating_author]\n",
       "Index: []"
      ]
     },
     "execution_count": 12,
     "metadata": {},
     "output_type": "execute_result"
    }
   ],
   "source": [
    "df_merged[df_merged.average_rating_author.isna()]"
   ]
  },
  {
   "cell_type": "code",
   "execution_count": 13,
   "metadata": {},
   "outputs": [
    {
     "name": "stderr",
     "output_type": "stream",
     "text": [
      "C:\\Users\\farou\\AppData\\Local\\Temp\\ipykernel_1508\\569322010.py:9: FutureWarning: The default value of regex will change from True to False in a future version.\n",
      "  df_merged.loc[::,'language_code'] = df_merged.loc[::,'language_code'].str.replace(r'^en.*', 'eng')\n"
     ]
    }
   ],
   "source": [
    "#dropping useless columns\n",
    "df_merged=df_merged.drop(columns=[\"isbn\",\"isbn13\",\"bookID\"])\n",
    "\n",
    "\n",
    "df_merged =df_merged[df_merged.ratings_count!=0]\n",
    "df_merged =df_merged[df_merged.num_pages!=0]\n",
    "\n",
    "\n",
    "df_merged.loc[::,'language_code'] = df_merged.loc[::,'language_code'].str.replace(r'^en.*', 'eng')\n",
    "\n"
   ]
  },
  {
   "cell_type": "code",
   "execution_count": 14,
   "metadata": {},
   "outputs": [],
   "source": [
    "def group(df,index,values,sort):\n",
    "    table = df.copy().groupby(index).agg(values)\n",
    "    return table.sort_values(by=sort,ascending=False).reset_index()\n"
   ]
  },
  {
   "cell_type": "code",
   "execution_count": 15,
   "metadata": {},
   "outputs": [
    {
     "data": {
      "text/html": [
       "<div>\n",
       "<style scoped>\n",
       "    .dataframe tbody tr th:only-of-type {\n",
       "        vertical-align: middle;\n",
       "    }\n",
       "\n",
       "    .dataframe tbody tr th {\n",
       "        vertical-align: top;\n",
       "    }\n",
       "\n",
       "    .dataframe thead th {\n",
       "        text-align: right;\n",
       "    }\n",
       "</style>\n",
       "<table border=\"1\" class=\"dataframe\">\n",
       "  <thead>\n",
       "    <tr style=\"text-align: right;\">\n",
       "      <th></th>\n",
       "      <th>average_rating</th>\n",
       "      <th>text_reviews_count</th>\n",
       "      <th>ratings_count</th>\n",
       "      <th>num_pages</th>\n",
       "      <th>title</th>\n",
       "    </tr>\n",
       "  </thead>\n",
       "  <tbody>\n",
       "    <tr>\n",
       "      <th>0</th>\n",
       "      <td>4</td>\n",
       "      <td>576.266860</td>\n",
       "      <td>18833.647440</td>\n",
       "      <td>341.229179</td>\n",
       "      <td>10350</td>\n",
       "    </tr>\n",
       "    <tr>\n",
       "      <th>1</th>\n",
       "      <td>3</td>\n",
       "      <td>77.912032</td>\n",
       "      <td>1225.481294</td>\n",
       "      <td>287.317240</td>\n",
       "      <td>3956</td>\n",
       "    </tr>\n",
       "    <tr>\n",
       "      <th>2</th>\n",
       "      <td>5</td>\n",
       "      <td>48.677564</td>\n",
       "      <td>1696.447139</td>\n",
       "      <td>319.321118</td>\n",
       "      <td>3793</td>\n",
       "    </tr>\n",
       "    <tr>\n",
       "      <th>3</th>\n",
       "      <td>2</td>\n",
       "      <td>6.210495</td>\n",
       "      <td>48.393868</td>\n",
       "      <td>47.069575</td>\n",
       "      <td>1696</td>\n",
       "    </tr>\n",
       "    <tr>\n",
       "      <th>4</th>\n",
       "      <td>1</td>\n",
       "      <td>2.797980</td>\n",
       "      <td>4.126263</td>\n",
       "      <td>4.828283</td>\n",
       "      <td>198</td>\n",
       "    </tr>\n",
       "  </tbody>\n",
       "</table>\n",
       "</div>"
      ],
      "text/plain": [
       "   average_rating  text_reviews_count  ratings_count   num_pages  title\n",
       "0               4          576.266860   18833.647440  341.229179  10350\n",
       "1               3           77.912032    1225.481294  287.317240   3956\n",
       "2               5           48.677564    1696.447139  319.321118   3793\n",
       "3               2            6.210495      48.393868   47.069575   1696\n",
       "4               1            2.797980       4.126263    4.828283    198"
      ]
     },
     "execution_count": 15,
     "metadata": {},
     "output_type": "execute_result"
    }
   ],
   "source": [
    "group(df_merged,\"average_rating\",{\"text_reviews_count\":\"mean\",\"ratings_count\":\"mean\",'num_pages':\"mean\",\"title\":\"count\"},\"title\")"
   ]
  },
  {
   "cell_type": "markdown",
   "metadata": {},
   "source": [
    "#### Feature engineering"
   ]
  },
  {
   "cell_type": "markdown",
   "metadata": {},
   "source": [
    "**Label encode Title, authors and publisher columns**"
   ]
  },
  {
   "cell_type": "code",
   "execution_count": 16,
   "metadata": {},
   "outputs": [],
   "source": [
    "\n",
    "\n",
    "le = LabelEncoder()\n",
    "df_merged['title'] = le.fit_transform(df_merged['title'])\n",
    "df_merged['authors'] = le.fit_transform(df_merged['authors'])\n",
    "df_merged['publisher'] = le.fit_transform(df_merged['publisher'])"
   ]
  },
  {
   "cell_type": "code",
   "execution_count": 17,
   "metadata": {},
   "outputs": [
    {
     "data": {
      "text/plain": [
       "array([4846, 4840, 3840, ..., 2209, 4511, 2574])"
      ]
     },
     "execution_count": 17,
     "metadata": {},
     "output_type": "execute_result"
    }
   ],
   "source": [
    "df_merged.publisher.unique()"
   ]
  },
  {
   "cell_type": "markdown",
   "metadata": {},
   "source": [
    "**Creating 4 classes for average_rating**"
   ]
  },
  {
   "cell_type": "code",
   "execution_count": 18,
   "metadata": {},
   "outputs": [],
   "source": [
    "\n",
    "bins = [ -1, 2, 3, 4, 5]  # 0 is used to ensure 1 is included in the first bin\n",
    "labels = ['bad', 'average', 'good', 'very good']\n",
    "\n",
    "# Create a new column with the binned values\n",
    "df_merged['binned_rating'] = pd.cut(df_merged['average_rating'], bins=bins, labels=labels,right=True)"
   ]
  },
  {
   "cell_type": "markdown",
   "metadata": {},
   "source": [
    "**Feature selection**"
   ]
  },
  {
   "cell_type": "code",
   "execution_count": 19,
   "metadata": {},
   "outputs": [
    {
     "data": {
      "text/plain": [
       "array([0.12114024, 0.26156414, 0.44505944, 0.3147422 , 0.23966414,\n",
       "       0.338818  , 0.00464273, 0.36866527, 0.32175628])"
      ]
     },
     "execution_count": 19,
     "metadata": {},
     "output_type": "execute_result"
    }
   ],
   "source": [
    "from sklearn.feature_selection import SelectKBest, f_regression, mutual_info_classif\n",
    "\n",
    "X = df_merged.drop(columns=[\"binned_rating\",'average_rating',\"language_code\",\"name\"])\n",
    "y = df_merged['binned_rating']\n",
    "\n",
    "#selector = SelectKBest(f_regression, k='all').fit(X, y)\n",
    "\n",
    "selector = SelectKBest(mutual_info_classif, k='all').fit(X, y)\n",
    "\n",
    "scores = selector.scores_\n",
    "scores"
   ]
  },
  {
   "cell_type": "code",
   "execution_count": 20,
   "metadata": {},
   "outputs": [
    {
     "data": {
      "text/plain": [
       "Index(['title', 'authors', 'num_pages', 'ratings_count', 'text_reviews_count',\n",
       "       'publisher', 'publication_month', 'publication_year',\n",
       "       'average_rating_author'],\n",
       "      dtype='object')"
      ]
     },
     "execution_count": 20,
     "metadata": {},
     "output_type": "execute_result"
    }
   ],
   "source": [
    "X.columns"
   ]
  },
  {
   "cell_type": "code",
   "execution_count": 21,
   "metadata": {},
   "outputs": [
    {
     "name": "stdout",
     "output_type": "stream",
     "text": [
      "<class 'pandas.core.frame.DataFrame'>\n",
      "Int64Index: 19993 entries, 0 to 20168\n",
      "Data columns (total 13 columns):\n",
      " #   Column                 Non-Null Count  Dtype   \n",
      "---  ------                 --------------  -----   \n",
      " 0   title                  19993 non-null  int32   \n",
      " 1   authors                19993 non-null  int32   \n",
      " 2   average_rating         19993 non-null  int64   \n",
      " 3   language_code          19993 non-null  object  \n",
      " 4   num_pages              19993 non-null  int64   \n",
      " 5   ratings_count          19993 non-null  int64   \n",
      " 6   text_reviews_count     19993 non-null  int64   \n",
      " 7   publisher              19993 non-null  int32   \n",
      " 8   publication_month      19993 non-null  float64 \n",
      " 9   publication_year       19993 non-null  int64   \n",
      " 10  name                   19444 non-null  object  \n",
      " 11  average_rating_author  19993 non-null  int64   \n",
      " 12  binned_rating          19993 non-null  category\n",
      "dtypes: category(1), float64(1), int32(3), int64(6), object(2)\n",
      "memory usage: 1.8+ MB\n"
     ]
    }
   ],
   "source": [
    "df_merged.info()"
   ]
  },
  {
   "cell_type": "markdown",
   "metadata": {},
   "source": [
    "**One hot encoding the language_code column**"
   ]
  },
  {
   "cell_type": "code",
   "execution_count": 22,
   "metadata": {},
   "outputs": [],
   "source": [
    "dummies = pd.get_dummies(df_merged['language_code'], prefix='lang')\n",
    "\n",
    "# Concatenate the dummies DataFrame to the original df\n",
    "df_merged = pd.concat([df_merged, dummies], axis=1)\n",
    "\n"
   ]
  },
  {
   "cell_type": "markdown",
   "metadata": {},
   "source": [
    "**Data Splitting and augmentation**"
   ]
  },
  {
   "cell_type": "code",
   "execution_count": 23,
   "metadata": {},
   "outputs": [],
   "source": [
    "from sklearn.model_selection import train_test_split"
   ]
  },
  {
   "cell_type": "code",
   "execution_count": 24,
   "metadata": {},
   "outputs": [],
   "source": [
    "\n",
    "df_train, df_test = train_test_split(df_merged,test_size = 0.2)\n",
    "# get the values of the columns for the training data\n",
    "\n",
    "X_train = df_train.drop(columns=[\"average_rating\",\"language_code\",\"binned_rating\",'lang_--','name']).values\n",
    "y_train = df_train.binned_rating.values\n",
    "\n",
    "\n",
    "#get the values of the columns for the test data\n",
    "X_test = df_test.drop(columns=[\"binned_rating\",\"average_rating\",\"language_code\",'lang_--','name']).values\n",
    "y_test = df_test.binned_rating.values\n"
   ]
  },
  {
   "cell_type": "markdown",
   "metadata": {},
   "source": [
    "Over-sampling minority class"
   ]
  },
  {
   "cell_type": "code",
   "execution_count": 25,
   "metadata": {},
   "outputs": [],
   "source": [
    "from imblearn.over_sampling import SMOTE\n",
    "smote = SMOTE(random_state=42)\n",
    "X_train_smote, y_train_smote = smote.fit_resample(X_train, y_train) "
   ]
  },
  {
   "cell_type": "markdown",
   "metadata": {},
   "source": [
    "**Feature scaling**"
   ]
  },
  {
   "cell_type": "code",
   "execution_count": 26,
   "metadata": {},
   "outputs": [],
   "source": [
    "scaler = StandardScaler()\n",
    "X_train_knn = scaler.fit_transform(X_train_smote)\n",
    "X_test_knn = scaler.transform(X_test)\n"
   ]
  },
  {
   "cell_type": "markdown",
   "metadata": {},
   "source": [
    "### **2. Model training**"
   ]
  },
  {
   "cell_type": "markdown",
   "metadata": {},
   "source": [
    "#### Trying multiple models"
   ]
  },
  {
   "cell_type": "markdown",
   "metadata": {},
   "source": [
    "Random Forest"
   ]
  },
  {
   "cell_type": "code",
   "execution_count": 27,
   "metadata": {},
   "outputs": [
    {
     "name": "stdout",
     "output_type": "stream",
     "text": [
      "              precision    recall  f1-score   support\n",
      "\n",
      "     average       0.72      0.62      0.66       825\n",
      "         bad       0.70      0.76      0.73       379\n",
      "        good       0.92      0.97      0.94      2039\n",
      "   very good       0.82      0.79      0.81       756\n",
      "\n",
      "    accuracy                           0.84      3999\n",
      "   macro avg       0.79      0.78      0.78      3999\n",
      "weighted avg       0.84      0.84      0.84      3999\n",
      "\n"
     ]
    }
   ],
   "source": [
    "RF = RandomForestClassifier()\n",
    "\n",
    "\n",
    "RF.fit(X_train_smote, y_train_smote)\n",
    "\n",
    "# Predict on the test set\n",
    "y_pred_RF = RF.predict(X_test)\n",
    "print(classification_report(y_test, y_pred_RF))"
   ]
  },
  {
   "cell_type": "markdown",
   "metadata": {},
   "source": [
    "Decision Tree"
   ]
  },
  {
   "cell_type": "code",
   "execution_count": 28,
   "metadata": {},
   "outputs": [],
   "source": [
    "DT=DecisionTreeClassifier()\n",
    "DT.fit(X_train_smote, y_train_smote)\n",
    "\n",
    "# Predict on the test set\n",
    "y_pred_DT = DT.predict(X_test)\n",
    "\n",
    "\n",
    "\n",
    "\n"
   ]
  },
  {
   "cell_type": "code",
   "execution_count": 29,
   "metadata": {},
   "outputs": [
    {
     "name": "stdout",
     "output_type": "stream",
     "text": [
      "decision_tree               precision    recall  f1-score   support\n",
      "\n",
      "     average       0.51      0.51      0.51       825\n",
      "         bad       0.59      0.68      0.63       379\n",
      "        good       0.91      0.88      0.90      2039\n",
      "   very good       0.68      0.69      0.69       756\n",
      "\n",
      "    accuracy                           0.75      3999\n",
      "   macro avg       0.67      0.69      0.68      3999\n",
      "weighted avg       0.76      0.75      0.75      3999\n",
      "\n"
     ]
    }
   ],
   "source": [
    "print(\"decision_tree\",classification_report(y_test, y_pred_DT))"
   ]
  },
  {
   "cell_type": "markdown",
   "metadata": {},
   "source": [
    "KNN"
   ]
  },
  {
   "cell_type": "code",
   "execution_count": 30,
   "metadata": {},
   "outputs": [
    {
     "name": "stderr",
     "output_type": "stream",
     "text": [
      "c:\\Users\\farou\\.conda\\envs\\production\\lib\\site-packages\\sklearn\\neighbors\\_classification.py:228: FutureWarning: Unlike other reduction functions (e.g. `skew`, `kurtosis`), the default behavior of `mode` typically preserves the axis it acts along. In SciPy 1.11.0, this behavior will change: the default value of `keepdims` will become False, the `axis` over which the statistic is taken will be eliminated, and the value None will no longer be accepted. Set `keepdims` to True or False to avoid this warning.\n",
      "  mode, _ = stats.mode(_y[neigh_ind, k], axis=1)\n"
     ]
    }
   ],
   "source": [
    "KNN=KNeighborsClassifier()\n",
    "KNN.fit(X_train_smote, y_train_smote)\n",
    "\n",
    "# Predict on the test set\n",
    "y_pred_KNN = KNN.predict(X_test)\n"
   ]
  },
  {
   "cell_type": "code",
   "execution_count": 31,
   "metadata": {},
   "outputs": [
    {
     "name": "stdout",
     "output_type": "stream",
     "text": [
      "KNN               precision    recall  f1-score   support\n",
      "\n",
      "     average       0.30      0.38      0.34       825\n",
      "         bad       0.19      0.36      0.25       379\n",
      "        good       0.86      0.63      0.73      2039\n",
      "   very good       0.37      0.36      0.36       756\n",
      "\n",
      "    accuracy                           0.50      3999\n",
      "   macro avg       0.43      0.43      0.42      3999\n",
      "weighted avg       0.59      0.50      0.53      3999\n",
      "\n"
     ]
    }
   ],
   "source": [
    "print(\"KNN\",classification_report(y_test, y_pred_KNN))"
   ]
  },
  {
   "cell_type": "markdown",
   "metadata": {},
   "source": [
    "#### Tuning hyperparameters for the best models"
   ]
  },
  {
   "cell_type": "markdown",
   "metadata": {},
   "source": [
    "Decision tree : second best model"
   ]
  },
  {
   "cell_type": "code",
   "execution_count": 32,
   "metadata": {},
   "outputs": [
    {
     "data": {
      "text/plain": [
       "GridSearchCV(cv=5, estimator=DecisionTreeClassifier(), n_jobs=-1,\n",
       "             param_grid={'criterion': ['gini', 'entropy'],\n",
       "                         'max_depth': [None, 10, 20, 30, 40, 50],\n",
       "                         'min_samples_leaf': [1, 2, 4],\n",
       "                         'min_samples_split': [2, 5, 10],\n",
       "                         'splitter': ['best', 'random']})"
      ]
     },
     "execution_count": 32,
     "metadata": {},
     "output_type": "execute_result"
    }
   ],
   "source": [
    "# Decision Tree GridSearch\n",
    "dt_params = {\n",
    "    'criterion': ['gini', 'entropy'],\n",
    "    'splitter': ['best', 'random'],\n",
    "    'max_depth': [None, 10, 20, 30, 40, 50],\n",
    "    'min_samples_split': [2, 5, 10],\n",
    "    'min_samples_leaf': [1, 2, 4]\n",
    "}\n",
    "\n",
    "dt = DecisionTreeClassifier()\n",
    "dt_gs = GridSearchCV(dt, dt_params, cv=5, n_jobs=-1)\n",
    "dt_gs.fit(X_train_smote, y_train_smote)\n"
   ]
  },
  {
   "cell_type": "code",
   "execution_count": 33,
   "metadata": {},
   "outputs": [
    {
     "name": "stdout",
     "output_type": "stream",
     "text": [
      "              precision    recall  f1-score   support\n",
      "\n",
      "     average       0.65      0.60      0.62       825\n",
      "         bad       0.67      0.76      0.71       379\n",
      "        good       0.91      0.95      0.93      2039\n",
      "   very good       0.82      0.74      0.78       756\n",
      "\n",
      "    accuracy                           0.82      3999\n",
      "   macro avg       0.76      0.76      0.76      3999\n",
      "weighted avg       0.82      0.82      0.82      3999\n",
      "\n"
     ]
    }
   ],
   "source": [
    "# Fit the model with best parameters\n",
    "dt_best = dt_gs.best_estimator_\n",
    "dt_best.fit(X_train_smote, y_train_smote)\n",
    "\n",
    "# Predict on test data\n",
    "y_pred_dt = dt_best.predict(X_test)\n",
    "print(classification_report(y_test,y_pred_dt))"
   ]
  },
  {
   "cell_type": "markdown",
   "metadata": {},
   "source": [
    "Random Forest : **Best model**"
   ]
  },
  {
   "cell_type": "code",
   "execution_count": 34,
   "metadata": {},
   "outputs": [
    {
     "name": "stdout",
     "output_type": "stream",
     "text": [
      "Fitting 3 folds for each of 180 candidates, totalling 540 fits\n"
     ]
    },
    {
     "data": {
      "text/plain": [
       "GridSearchCV(cv=3, estimator=RandomForestClassifier(), n_jobs=-1,\n",
       "             param_grid={'max_depth': [None, 10, 20, 30, 40],\n",
       "                         'min_samples_leaf': [1, 2, 4],\n",
       "                         'min_samples_split': [2, 5, 10],\n",
       "                         'n_estimators': [10, 50, 100, 200]},\n",
       "             scoring='accuracy', verbose=2)"
      ]
     },
     "execution_count": 34,
     "metadata": {},
     "output_type": "execute_result"
    }
   ],
   "source": [
    "\n",
    "param_grid = {\n",
    "    'n_estimators': [10, 50, 100, 200],\n",
    "    'max_depth': [None, 10, 20, 30, 40],\n",
    "    'min_samples_split': [2, 5, 10],\n",
    "    'min_samples_leaf': [1, 2, 4]\n",
    "}\n",
    "\n",
    "\n",
    "\n",
    "\n",
    "\n",
    "\n",
    "rf = RandomForestClassifier()\n",
    "grid_search = GridSearchCV(estimator=rf, param_grid=param_grid, \n",
    "                          cv=3, n_jobs=-1, verbose=2, scoring='accuracy')\n",
    "grid_search.fit(X_train_smote, y_train_smote)\n"
   ]
  },
  {
   "cell_type": "code",
   "execution_count": 35,
   "metadata": {},
   "outputs": [
    {
     "name": "stdout",
     "output_type": "stream",
     "text": [
      "              precision    recall  f1-score   support\n",
      "\n",
      "     average       0.71      0.62      0.66       825\n",
      "         bad       0.70      0.77      0.73       379\n",
      "        good       0.91      0.97      0.94      2039\n",
      "   very good       0.83      0.78      0.80       756\n",
      "\n",
      "    accuracy                           0.84      3999\n",
      "   macro avg       0.79      0.78      0.78      3999\n",
      "weighted avg       0.84      0.84      0.84      3999\n",
      "\n"
     ]
    }
   ],
   "source": [
    "best_params = grid_search.best_params_\n",
    "best_model = grid_search.best_estimator_\n",
    "\n",
    "y_pred_rf = best_model.predict(X_test)\n",
    "print(classification_report(y_test, y_pred_rf))\n"
   ]
  },
  {
   "cell_type": "code",
   "execution_count": 36,
   "metadata": {},
   "outputs": [
    {
     "data": {
      "text/plain": [
       "<sklearn.metrics._plot.confusion_matrix.ConfusionMatrixDisplay at 0x2e236fa9fa0>"
      ]
     },
     "execution_count": 36,
     "metadata": {},
     "output_type": "execute_result"
    },
    {
     "data": {
      "image/png": "[encoded data removed]",
      "text/plain": [
       "<Figure size 640x480 with 2 Axes>"
      ]
     },
     "metadata": {},
     "output_type": "display_data"
    }
   ],
   "source": [
    "conf_matrix = confusion_matrix(y_test, y_pred_rf)\n",
    "conf_matrix_display = ConfusionMatrixDisplay(conf_matrix,display_labels=[\"average\", \"bad\", \"good\", \"very good\"])\n",
    "conf_matrix_display.plot()"
   ]
  }
 ],
 "metadata": {
  "kernelspec": {
   "display_name": "production",
   "language": "python",
   "name": "python3"
  },
  "language_info": {
   "codemirror_mode": {
    "name": "ipython",
    "version": 3
   },
   "file_extension": ".py",
   "mimetype": "text/x-python",
   "name": "python",
   "nbconvert_exporter": "python",
   "pygments_lexer": "ipython3",
   "version": "3.9.13"
  },
  "orig_nbformat": 4
 },
 "nbformat": 4,
 "nbformat_minor": 2
}
