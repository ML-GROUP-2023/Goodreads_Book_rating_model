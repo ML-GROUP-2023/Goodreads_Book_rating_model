{
 "cells": [
  {
   "cell_type": "markdown",
   "metadata": {},
   "source": [
    "# Data enrichment"
   ]
  },
  {
   "cell_type": "code",
   "execution_count": 223,
   "metadata": {},
   "outputs": [],
   "source": [
    "import pandas as pd\n",
    "import numpy as np\n",
    "import re"
   ]
  },
  {
   "cell_type": "markdown",
   "metadata": {},
   "source": [
    "### Function for extracting chunks of data with desired average_rating"
   ]
  },
  {
   "cell_type": "code",
   "execution_count": 224,
   "metadata": {},
   "outputs": [],
   "source": [
    "\n",
    "\n",
    "def exract_df_ratings(chunksize,target_rows,rating):\n",
    "    # Counter for total rows processed\n",
    "    total_rows = 0\n",
    "    chunks = []\n",
    "    # Read the JSON file in chunks\n",
    "    for chunk in pd.read_json(\"goodreads_books.json\", lines=True, chunksize=chunksize):\n",
    "        # Convert 'average_rating' to numeric (it is stored as a string)\n",
    "        chunk['average_rating'] = pd.to_numeric(chunk['average_rating'], errors='coerce')\n",
    "\n",
    "        \n",
    "        # Replace empty strings with NA\n",
    "        \n",
    "        chunk = chunk.replace('', pd.NA)\n",
    "        # Drop NAs\n",
    "        chunk = chunk.dropna(subset=[\"isbn\",'text_reviews_count','authors',\n",
    "         'num_pages', 'isbn13','book_id', 'ratings_count','title','average_rating',\"publication_year\"])\n",
    "         \n",
    "         # Filter the chunk based on your condition\n",
    "        \n",
    "        \n",
    "\n",
    "        filtered_chunk = chunk[chunk['average_rating'].round().astype(\"int64\") == rating]\n",
    "        \n",
    "        \n",
    "        \n",
    "        chunks.append(filtered_chunk)\n",
    "        \n",
    "        # Update the counter for total rows processed\n",
    "        total_rows += len(filtered_chunk)\n",
    "        \n",
    "        # Break out of the loop if  the target number of rows reached\n",
    "        if total_rows >= target_rows:\n",
    "            break\n",
    "\n",
    "    # Concatenate all the filtered chunks into a single DataFrame\n",
    "    final_df = pd.concat(chunks, axis=0)\n",
    "\n",
    "    \n",
    "    final_df = final_df.iloc[:target_rows]\n",
    "    return final_df\n",
    "\n"
   ]
  },
  {
   "cell_type": "markdown",
   "metadata": {},
   "source": [
    " #### **1. Collecting  and merging the Dataframes**"
   ]
  },
  {
   "cell_type": "code",
   "execution_count": 225,
   "metadata": {},
   "outputs": [],
   "source": [
    "\n",
    "df_rating_1=exract_df_ratings(20000,10000,1)\n",
    "\n",
    "df_rating_2=exract_df_ratings(20000,10000,2)\n",
    "df_rating_3=exract_df_ratings(20000,10000,3)\n",
    "df_rating_5=exract_df_ratings(20000,10000,5)\n"
   ]
  },
  {
   "cell_type": "code",
   "execution_count": 226,
   "metadata": {},
   "outputs": [],
   "source": [
    "df = pd.concat([ df_rating_2,df_rating_3,df_rating_5,df_rating_1]).reset_index(drop=True)"
   ]
  },
  {
   "cell_type": "markdown",
   "metadata": {},
   "source": [
    "#### **2.Preproccesing and cleaning the Data**"
   ]
  },
  {
   "cell_type": "code",
   "execution_count": 227,
   "metadata": {},
   "outputs": [
    {
     "data": {
      "text/plain": [
       "Index(['isbn', 'text_reviews_count', 'series', 'country_code', 'language_code',\n",
       "       'popular_shelves', 'asin', 'is_ebook', 'average_rating', 'kindle_asin',\n",
       "       'similar_books', 'description', 'format', 'link', 'authors',\n",
       "       'publisher', 'num_pages', 'publication_day', 'isbn13',\n",
       "       'publication_month', 'edition_information', 'publication_year', 'url',\n",
       "       'image_url', 'book_id', 'ratings_count', 'work_id', 'title',\n",
       "       'title_without_series'],\n",
       "      dtype='object')"
      ]
     },
     "execution_count": 227,
     "metadata": {},
     "output_type": "execute_result"
    }
   ],
   "source": [
    "df.columns"
   ]
  },
  {
   "cell_type": "code",
   "execution_count": 228,
   "metadata": {},
   "outputs": [
    {
     "data": {
      "text/html": [
       "<div>\n",
       "<style scoped>\n",
       "    .dataframe tbody tr th:only-of-type {\n",
       "        vertical-align: middle;\n",
       "    }\n",
       "\n",
       "    .dataframe tbody tr th {\n",
       "        vertical-align: top;\n",
       "    }\n",
       "\n",
       "    .dataframe thead th {\n",
       "        text-align: right;\n",
       "    }\n",
       "</style>\n",
       "<table border=\"1\" class=\"dataframe\">\n",
       "  <thead>\n",
       "    <tr style=\"text-align: right;\">\n",
       "      <th></th>\n",
       "      <th>average_rating</th>\n",
       "      <th>book_id</th>\n",
       "    </tr>\n",
       "  </thead>\n",
       "  <tbody>\n",
       "    <tr>\n",
       "      <th>count</th>\n",
       "      <td>29437.000000</td>\n",
       "      <td>2.943700e+04</td>\n",
       "    </tr>\n",
       "    <tr>\n",
       "      <th>mean</th>\n",
       "      <td>3.379077</td>\n",
       "      <td>1.336023e+07</td>\n",
       "    </tr>\n",
       "    <tr>\n",
       "      <th>std</th>\n",
       "      <td>1.157223</td>\n",
       "      <td>1.011655e+07</td>\n",
       "    </tr>\n",
       "    <tr>\n",
       "      <th>min</th>\n",
       "      <td>1.000000</td>\n",
       "      <td>4.610000e+02</td>\n",
       "    </tr>\n",
       "    <tr>\n",
       "      <th>25%</th>\n",
       "      <td>2.500000</td>\n",
       "      <td>3.566391e+06</td>\n",
       "    </tr>\n",
       "    <tr>\n",
       "      <th>50%</th>\n",
       "      <td>3.310000</td>\n",
       "      <td>1.246190e+07</td>\n",
       "    </tr>\n",
       "    <tr>\n",
       "      <th>75%</th>\n",
       "      <td>4.610000</td>\n",
       "      <td>2.144644e+07</td>\n",
       "    </tr>\n",
       "    <tr>\n",
       "      <th>max</th>\n",
       "      <td>5.000000</td>\n",
       "      <td>3.646566e+07</td>\n",
       "    </tr>\n",
       "  </tbody>\n",
       "</table>\n",
       "</div>"
      ],
      "text/plain": [
       "       average_rating       book_id\n",
       "count    29437.000000  2.943700e+04\n",
       "mean         3.379077  1.336023e+07\n",
       "std          1.157223  1.011655e+07\n",
       "min          1.000000  4.610000e+02\n",
       "25%          2.500000  3.566391e+06\n",
       "50%          3.310000  1.246190e+07\n",
       "75%          4.610000  2.144644e+07\n",
       "max          5.000000  3.646566e+07"
      ]
     },
     "execution_count": 228,
     "metadata": {},
     "output_type": "execute_result"
    }
   ],
   "source": [
    "df.describe()"
   ]
  },
  {
   "cell_type": "code",
   "execution_count": 229,
   "metadata": {},
   "outputs": [
    {
     "name": "stdout",
     "output_type": "stream",
     "text": [
      "<class 'pandas.core.frame.DataFrame'>\n",
      "RangeIndex: 29437 entries, 0 to 29436\n",
      "Data columns (total 29 columns):\n",
      " #   Column                Non-Null Count  Dtype  \n",
      "---  ------                --------------  -----  \n",
      " 0   isbn                  29437 non-null  object \n",
      " 1   text_reviews_count    29437 non-null  object \n",
      " 2   series                29437 non-null  object \n",
      " 3   country_code          29437 non-null  object \n",
      " 4   language_code         11032 non-null  object \n",
      " 5   popular_shelves       29437 non-null  object \n",
      " 6   asin                  0 non-null      object \n",
      " 7   is_ebook              29437 non-null  object \n",
      " 8   average_rating        29437 non-null  float64\n",
      " 9   kindle_asin           10966 non-null  object \n",
      " 10  similar_books         29437 non-null  object \n",
      " 11  description           25935 non-null  object \n",
      " 12  format                28781 non-null  object \n",
      " 13  link                  29437 non-null  object \n",
      " 14  authors               29437 non-null  object \n",
      " 15  publisher             29046 non-null  object \n",
      " 16  num_pages             29437 non-null  object \n",
      " 17  publication_day       25534 non-null  object \n",
      " 18  isbn13                29437 non-null  object \n",
      " 19  publication_month     26880 non-null  object \n",
      " 20  edition_information   2235 non-null   object \n",
      " 21  publication_year      29437 non-null  object \n",
      " 22  url                   29437 non-null  object \n",
      " 23  image_url             29437 non-null  object \n",
      " 24  book_id               29437 non-null  int64  \n",
      " 25  ratings_count         29437 non-null  object \n",
      " 26  work_id               29437 non-null  object \n",
      " 27  title                 29437 non-null  object \n",
      " 28  title_without_series  29437 non-null  object \n",
      "dtypes: float64(1), int64(1), object(27)\n",
      "memory usage: 6.5+ MB\n"
     ]
    }
   ],
   "source": [
    "df.info()"
   ]
  },
  {
   "cell_type": "markdown",
   "metadata": {},
   "source": [
    "#### **3. Selecting and formating relevent features** "
   ]
  },
  {
   "cell_type": "code",
   "execution_count": 230,
   "metadata": {},
   "outputs": [],
   "source": [
    "df=df[[\"isbn\",\"language_code\",'text_reviews_count','authors',\n",
    "       'publisher', 'num_pages', 'isbn13','book_id', 'ratings_count','title','average_rating','publication_month','publication_year']]"
   ]
  },
  {
   "cell_type": "code",
   "execution_count": 231,
   "metadata": {},
   "outputs": [],
   "source": [
    "df=df.rename(columns={\"book_id\":\"bookID\"})"
   ]
  },
  {
   "cell_type": "code",
   "execution_count": null,
   "metadata": {},
   "outputs": [],
   "source": []
  },
  {
   "cell_type": "code",
   "execution_count": 232,
   "metadata": {},
   "outputs": [],
   "source": [
    "df['average_rating'] = df['average_rating'].round().astype(\"int64\") \n",
    "df['text_reviews_count'] = pd.to_numeric(df['text_reviews_count'], errors='coerce').astype(\"int64\")\n",
    "df['ratings_count'] = pd.to_numeric(df['ratings_count'], errors='coerce').astype(\"int64\")\n",
    "df['num_pages'] = pd.to_numeric(df['ratings_count']).astype(\"int64\")\n"
   ]
  },
  {
   "cell_type": "code",
   "execution_count": 233,
   "metadata": {},
   "outputs": [],
   "source": [
    "\n",
    "df['publication_year'] = pd.to_numeric(df['publication_year'], errors='coerce').astype(\"int64\")"
   ]
  },
  {
   "cell_type": "code",
   "execution_count": 234,
   "metadata": {},
   "outputs": [],
   "source": [
    "authors_df=pd.read_json(\"goodreads_book_authors.json\", lines=True)\n",
    "authors_df.rename(columns={authors_df.columns[3]:\"name\"},inplace=True)\n",
    "authors_df['author_id'] = authors_df['author_id'].astype(str)"
   ]
  },
  {
   "cell_type": "code",
   "execution_count": 235,
   "metadata": {},
   "outputs": [
    {
     "data": {
      "text/plain": [
       "12574    [{'author_id': '1587258', 'role': 'coord.'}, {...\n",
       "Name: authors, dtype: object"
      ]
     },
     "execution_count": 235,
     "metadata": {},
     "output_type": "execute_result"
    }
   ],
   "source": [
    "df[df.isbn==\"9734661701\"].authors"
   ]
  },
  {
   "cell_type": "code",
   "execution_count": 236,
   "metadata": {},
   "outputs": [],
   "source": [
    "df['authors'] = df['authors'].astype(str)"
   ]
  },
  {
   "cell_type": "code",
   "execution_count": 237,
   "metadata": {},
   "outputs": [],
   "source": [
    "\n",
    "\n",
    "def extract_author_ids_from_string(authors_str):\n",
    "    return re.findall(r\"'author_id': '(\\d+)'\", authors_str)\n",
    "\n",
    "df['author_ids'] = df['authors'].apply(extract_author_ids_from_string)\n"
   ]
  },
  {
   "cell_type": "code",
   "execution_count": 238,
   "metadata": {},
   "outputs": [
    {
     "name": "stdout",
     "output_type": "stream",
     "text": [
      "0      [35507, 4006336]\n",
      "1              [556176]\n",
      "2              [219818]\n",
      "3    [3271740, 5413891]\n",
      "4              [309210]\n",
      "Name: author_ids, dtype: object\n"
     ]
    }
   ],
   "source": [
    "print(df['author_ids'].head())"
   ]
  },
  {
   "cell_type": "code",
   "execution_count": 239,
   "metadata": {},
   "outputs": [],
   "source": [
    "def get_author_names(author_ids):\n",
    "    return ', '.join([author_map.get(str(aid), '') for aid in author_ids if str(aid) in author_map])\n"
   ]
  },
  {
   "cell_type": "code",
   "execution_count": 240,
   "metadata": {},
   "outputs": [],
   "source": [
    "author_map = dict(zip(authors_df['author_id'].astype(str), authors_df['name']))"
   ]
  },
  {
   "cell_type": "code",
   "execution_count": 241,
   "metadata": {},
   "outputs": [],
   "source": [
    "df['authors'] = df['author_ids'].apply(get_author_names)"
   ]
  },
  {
   "cell_type": "code",
   "execution_count": 242,
   "metadata": {},
   "outputs": [],
   "source": [
    "df.drop(columns=[ 'author_ids'], inplace=True)"
   ]
  },
  {
   "cell_type": "code",
   "execution_count": 243,
   "metadata": {},
   "outputs": [
    {
     "data": {
      "text/plain": [
       "0        Eric Ethan, Cameras in Action Staff\n",
       "1                          Sandi Gelles-Cole\n",
       "2                             Michael Powers\n",
       "3                  Noel Slangen, Jan Withofs\n",
       "4                                  Jean Ford\n",
       "                        ...                 \n",
       "29432                           Wendy Wagner\n",
       "29433                            Miriam Pace\n",
       "29434                            Lois Walker\n",
       "29435                          Lynn M. Stone\n",
       "29436                 Justin Dwayne Foxworth\n",
       "Name: authors, Length: 29437, dtype: object"
      ]
     },
     "execution_count": 243,
     "metadata": {},
     "output_type": "execute_result"
    }
   ],
   "source": [
    "df.authors"
   ]
  },
  {
   "cell_type": "markdown",
   "metadata": {},
   "source": [
    "#### **4. Reviewing the Dataset**"
   ]
  },
  {
   "cell_type": "code",
   "execution_count": 244,
   "metadata": {},
   "outputs": [],
   "source": [
    "def group(df,index,values,sort):\n",
    "    table = df.copy().groupby(index).agg(values)\n",
    "    return table.sort_values(by=sort,ascending=False).reset_index()"
   ]
  },
  {
   "cell_type": "code",
   "execution_count": 245,
   "metadata": {},
   "outputs": [
    {
     "name": "stdout",
     "output_type": "stream",
     "text": [
      "<class 'pandas.core.frame.DataFrame'>\n",
      "RangeIndex: 29437 entries, 0 to 29436\n",
      "Data columns (total 13 columns):\n",
      " #   Column              Non-Null Count  Dtype \n",
      "---  ------              --------------  ----- \n",
      " 0   isbn                29437 non-null  object\n",
      " 1   language_code       11032 non-null  object\n",
      " 2   text_reviews_count  29437 non-null  int64 \n",
      " 3   authors             29437 non-null  object\n",
      " 4   publisher           29046 non-null  object\n",
      " 5   num_pages           29437 non-null  int64 \n",
      " 6   isbn13              29437 non-null  object\n",
      " 7   bookID              29437 non-null  int64 \n",
      " 8   ratings_count       29437 non-null  int64 \n",
      " 9   title               29437 non-null  object\n",
      " 10  average_rating      29437 non-null  int64 \n",
      " 11  publication_month   26880 non-null  object\n",
      " 12  publication_year    29437 non-null  int64 \n",
      "dtypes: int64(6), object(7)\n",
      "memory usage: 2.9+ MB\n"
     ]
    }
   ],
   "source": [
    "df.info()"
   ]
  },
  {
   "cell_type": "code",
   "execution_count": 246,
   "metadata": {},
   "outputs": [
    {
     "data": {
      "text/plain": [
       "eng      6526\n",
       "ita       900\n",
       "en-US     569\n",
       "fre       521\n",
       "ger       418\n",
       "         ... \n",
       "enm         1\n",
       "hye         1\n",
       "tha         1\n",
       "pes         1\n",
       "cor         1\n",
       "Name: language_code, Length: 64, dtype: int64"
      ]
     },
     "execution_count": 246,
     "metadata": {},
     "output_type": "execute_result"
    }
   ],
   "source": [
    "df.language_code.value_counts()"
   ]
  },
  {
   "cell_type": "code",
   "execution_count": 247,
   "metadata": {},
   "outputs": [
    {
     "data": {
      "text/plain": [
       "Createspace Independent Publishing Platform    995\n",
       "Createspace                                    515\n",
       "iUniverse                                      184\n",
       "Authorhouse                                    174\n",
       "Harlequin                                      169\n",
       "                                              ... \n",
       "PM Press                                         1\n",
       "Paranormal Association of Cold Cases             1\n",
       "Cosmo Iannone                                    1\n",
       "SU Strips                                        1\n",
       "McGraw-Hill Science/Engineering/Math             1\n",
       "Name: publisher, Length: 10533, dtype: int64"
      ]
     },
     "execution_count": 247,
     "metadata": {},
     "output_type": "execute_result"
    }
   ],
   "source": [
    "df.publisher.value_counts()"
   ]
  },
  {
   "cell_type": "code",
   "execution_count": 248,
   "metadata": {},
   "outputs": [
    {
     "data": {
      "text/html": [
       "<div>\n",
       "<style scoped>\n",
       "    .dataframe tbody tr th:only-of-type {\n",
       "        vertical-align: middle;\n",
       "    }\n",
       "\n",
       "    .dataframe tbody tr th {\n",
       "        vertical-align: top;\n",
       "    }\n",
       "\n",
       "    .dataframe thead th {\n",
       "        text-align: right;\n",
       "    }\n",
       "</style>\n",
       "<table border=\"1\" class=\"dataframe\">\n",
       "  <thead>\n",
       "    <tr style=\"text-align: right;\">\n",
       "      <th></th>\n",
       "      <th>average_rating</th>\n",
       "      <th>text_reviews_count</th>\n",
       "      <th>ratings_count</th>\n",
       "      <th>num_pages</th>\n",
       "      <th>title</th>\n",
       "    </tr>\n",
       "  </thead>\n",
       "  <tbody>\n",
       "    <tr>\n",
       "      <th>0</th>\n",
       "      <td>3</td>\n",
       "      <td>23.144500</td>\n",
       "      <td>177.740600</td>\n",
       "      <td>177.740600</td>\n",
       "      <td>10000</td>\n",
       "    </tr>\n",
       "    <tr>\n",
       "      <th>1</th>\n",
       "      <td>5</td>\n",
       "      <td>13.815300</td>\n",
       "      <td>171.301100</td>\n",
       "      <td>171.301100</td>\n",
       "      <td>10000</td>\n",
       "    </tr>\n",
       "    <tr>\n",
       "      <th>2</th>\n",
       "      <td>2</td>\n",
       "      <td>3.001704</td>\n",
       "      <td>15.075228</td>\n",
       "      <td>15.075228</td>\n",
       "      <td>8215</td>\n",
       "    </tr>\n",
       "    <tr>\n",
       "      <th>3</th>\n",
       "      <td>1</td>\n",
       "      <td>1.391162</td>\n",
       "      <td>1.842881</td>\n",
       "      <td>1.842881</td>\n",
       "      <td>1222</td>\n",
       "    </tr>\n",
       "  </tbody>\n",
       "</table>\n",
       "</div>"
      ],
      "text/plain": [
       "   average_rating  text_reviews_count  ratings_count   num_pages  title\n",
       "0               3           23.144500     177.740600  177.740600  10000\n",
       "1               5           13.815300     171.301100  171.301100  10000\n",
       "2               2            3.001704      15.075228   15.075228   8215\n",
       "3               1            1.391162       1.842881    1.842881   1222"
      ]
     },
     "execution_count": 248,
     "metadata": {},
     "output_type": "execute_result"
    }
   ],
   "source": [
    "group(df,\"average_rating\",{\"text_reviews_count\":\"mean\",\"ratings_count\":\"mean\",'num_pages':\"mean\",\"title\":\"count\"},\"title\")"
   ]
  },
  {
   "cell_type": "markdown",
   "metadata": {},
   "source": [
    "#### **5. Saving the data in a CSV file**"
   ]
  },
  {
   "cell_type": "code",
   "execution_count": 249,
   "metadata": {},
   "outputs": [],
   "source": [
    "df.to_csv(\"data_enrichement2.csv\",index=False)"
   ]
  },
  {
   "cell_type": "code",
   "execution_count": null,
   "metadata": {},
   "outputs": [],
   "source": []
  },
  {
   "cell_type": "code",
   "execution_count": null,
   "metadata": {},
   "outputs": [],
   "source": []
  }
 ],
 "metadata": {
  "kernelspec": {
   "display_name": "production",
   "language": "python",
   "name": "python3"
  },
  "language_info": {
   "codemirror_mode": {
    "name": "ipython",
    "version": 3
   },
   "file_extension": ".py",
   "mimetype": "text/x-python",
   "name": "python",
   "nbconvert_exporter": "python",
   "pygments_lexer": "ipython3",
   "version": "3.9.13"
  },
  "orig_nbformat": 4
 },
 "nbformat": 4,
 "nbformat_minor": 2
}
